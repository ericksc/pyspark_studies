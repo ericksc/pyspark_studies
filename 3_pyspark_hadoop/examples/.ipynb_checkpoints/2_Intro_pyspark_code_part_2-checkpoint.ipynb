{
 "cells": [
  {
   "cell_type": "markdown",
   "id": "1922eed3-14b4-4330-a577-50c3809371dd",
   "metadata": {},
   "source": [
    "# Basic PySpark examples. Part 2"
   ]
  },
  {
   "cell_type": "markdown",
   "id": "b01a9632-3939-40bc-ab5f-e10fcbd22659",
   "metadata": {},
   "source": [
    "## - Initialize SparkSession"
   ]
  },
  {
   "cell_type": "code",
   "execution_count": 1,
   "id": "33a75b3c-03dd-4f6b-b70d-596b601b20ec",
   "metadata": {},
   "outputs": [],
   "source": [
    "from pyspark.sql import SparkSession"
   ]
  },
  {
   "cell_type": "code",
   "execution_count": 2,
   "id": "8d0e6fd2-d06d-4e2d-8607-a949abaabbf2",
   "metadata": {},
   "outputs": [],
   "source": [
    "spark = SparkSession.builder \\\n",
    "    .appName(\"BasicExample_part_2\") \\\n",
    "    .getOrCreate()"
   ]
  },
  {
   "cell_type": "markdown",
   "id": "70de0aec-e659-4cec-a14f-a1213816136e",
   "metadata": {},
   "source": [
    "## 1. Join Two DataFrames"
   ]
  },
  {
   "cell_type": "code",
   "execution_count": 3,
   "id": "8a54864d-d2b4-483c-ae8d-cef247f475f8",
   "metadata": {},
   "outputs": [
    {
     "name": "stdout",
     "output_type": "stream",
     "text": [
      "+------+-----+-----------+\n",
      "|DeptID| Name|   DeptName|\n",
      "+------+-----+-----------+\n",
      "|     1|Alice|         HR|\n",
      "|     2|  Bob|Engineering|\n",
      "+------+-----+-----------+\n",
      "\n"
     ]
    }
   ],
   "source": [
    "data1 = [(\"Alice\", 1), (\"Bob\", 2)]\n",
    "data2 = [(1, \"HR\"), (2, \"Engineering\")]\n",
    "\n",
    "df1 = spark.createDataFrame(data1, [\"Name\", \"DeptID\"])\n",
    "df2 = spark.createDataFrame(data2, [\"DeptID\", \"DeptName\"])\n",
    "\n",
    "joined_df = df1.join(df2, on=\"DeptID\", how=\"inner\")\n",
    "joined_df.show()"
   ]
  },
  {
   "cell_type": "markdown",
   "id": "43de4540-d2d3-414f-ba2e-a5995a70e7d2",
   "metadata": {},
   "source": [
    "## 1. Use SQL with Temp Views"
   ]
  },
  {
   "cell_type": "code",
   "execution_count": 5,
   "id": "e009f6a7-9eb5-4b6f-93e9-c7c593d23727",
   "metadata": {},
   "outputs": [
    {
     "name": "stdout",
     "output_type": "stream",
     "text": [
      "+-------+---+\n",
      "|   Name|Age|\n",
      "+-------+---+\n",
      "|  Alice| 30|\n",
      "|Charlie| 35|\n",
      "|    Eve| 28|\n",
      "+-------+---+\n",
      "\n"
     ]
    }
   ],
   "source": [
    "df = spark.read.csv(\"file.csv\", header=True, inferSchema=True)\n",
    "\n",
    "df.createOrReplaceTempView(\"people\")\n",
    "sql_df = spark.sql(\"SELECT Name, Age FROM people WHERE Age > 27\")\n",
    "sql_df.show()"
   ]
  },
  {
   "cell_type": "markdown",
   "id": "76074a20-b82e-485e-aa8e-6e4dc444792e",
   "metadata": {},
   "source": [
    "## 1. User-Defined Function (UDF)"
   ]
  },
  {
   "cell_type": "code",
   "execution_count": 6,
   "id": "bca8d812-f861-4f9c-8c04-ef6d4caa6a13",
   "metadata": {},
   "outputs": [
    {
     "name": "stdout",
     "output_type": "stream",
     "text": [
      "+-------+---+--------------+\n",
      "|   Name|Age|      Greeting|\n",
      "+-------+---+--------------+\n",
      "|  Alice| 30|  Hello, Alice|\n",
      "|    Bob| 25|    Hello, Bob|\n",
      "|Charlie| 35|Hello, Charlie|\n",
      "|  Diana| 22|  Hello, Diana|\n",
      "|    Eve| 28|    Hello, Eve|\n",
      "+-------+---+--------------+\n",
      "\n"
     ]
    }
   ],
   "source": [
    "from pyspark.sql.functions import udf\n",
    "from pyspark.sql.types import StringType\n",
    "\n",
    "def greet(name):\n",
    "    return f\"Hello, {name}\"\n",
    "\n",
    "greet_udf = udf(greet, StringType())\n",
    "\n",
    "df = df.withColumn(\"Greeting\", greet_udf(df.Name))\n",
    "df.show()\n"
   ]
  },
  {
   "cell_type": "markdown",
   "id": "e719ec04-15bb-41b4-8d63-1126c4bcb835",
   "metadata": {},
   "source": [
    "## 1. Window Functions"
   ]
  },
  {
   "cell_type": "code",
   "execution_count": 7,
   "id": "3a2d1652-f97c-4360-bc12-1ed0ade759be",
   "metadata": {},
   "outputs": [
    {
     "name": "stdout",
     "output_type": "stream",
     "text": [
      "+-------+---+--------------+----+\n",
      "|   Name|Age|      Greeting|Rank|\n",
      "+-------+---+--------------+----+\n",
      "|  Diana| 22|  Hello, Diana|   1|\n",
      "|    Bob| 25|    Hello, Bob|   2|\n",
      "|    Eve| 28|    Hello, Eve|   3|\n",
      "|  Alice| 30|  Hello, Alice|   4|\n",
      "|Charlie| 35|Hello, Charlie|   5|\n",
      "+-------+---+--------------+----+\n",
      "\n"
     ]
    }
   ],
   "source": [
    "from pyspark.sql.window import Window\n",
    "from pyspark.sql.functions import rank\n",
    "\n",
    "window_spec = Window.orderBy(df[\"Age\"])\n",
    "df.withColumn(\"Rank\", rank().over(window_spec)).show()"
   ]
  },
  {
   "cell_type": "markdown",
   "id": "aa1c074d-435c-47f0-a405-aa058cf08d03",
   "metadata": {},
   "source": [
    "## 1. Handle Missing Values"
   ]
  },
  {
   "cell_type": "code",
   "execution_count": 9,
   "id": "23ec23c8-9cf1-4a39-a079-f6db9050478a",
   "metadata": {},
   "outputs": [
    {
     "name": "stdout",
     "output_type": "stream",
     "text": [
      "+-------+----+\n",
      "|   Name| Age|\n",
      "+-------+----+\n",
      "|  Alice|30.0|\n",
      "|    Bob| 0.0|\n",
      "|Charlie|35.0|\n",
      "|  Diana| 0.0|\n",
      "|    Eve|28.0|\n",
      "+-------+----+\n",
      "\n",
      "+-------+----+\n",
      "|   Name| Age|\n",
      "+-------+----+\n",
      "|  Alice|30.0|\n",
      "|Charlie|35.0|\n",
      "|    Eve|28.0|\n",
      "+-------+----+\n",
      "\n"
     ]
    }
   ],
   "source": [
    "df = spark.read.csv(\"file_with_nulls.csv\", header=True, inferSchema=True)\n",
    "\n",
    "df.fillna({'Age': 0}).show()  # Fill missing Age with 0\n",
    "df.dropna().show()            # Drop rows with any nulls"
   ]
  },
  {
   "cell_type": "markdown",
   "id": "1b5c4f94-1120-43a8-8a3a-76bf2fb12ef0",
   "metadata": {},
   "source": [
    "## 1. Rename Columns"
   ]
  },
  {
   "cell_type": "code",
   "execution_count": 10,
   "id": "dc49bc17-fc75-495a-a8b9-10da0bae5cf5",
   "metadata": {},
   "outputs": [
    {
     "name": "stdout",
     "output_type": "stream",
     "text": [
      "+-------+-----+\n",
      "|   Name|Years|\n",
      "+-------+-----+\n",
      "|  Alice| 30.0|\n",
      "|    Bob| NULL|\n",
      "|Charlie| 35.0|\n",
      "|  Diana| NULL|\n",
      "|    Eve| 28.0|\n",
      "+-------+-----+\n",
      "\n"
     ]
    }
   ],
   "source": [
    "df = df.withColumnRenamed(\"Age\", \"Years\")\n",
    "df.show()"
   ]
  },
  {
   "cell_type": "markdown",
   "id": "f55e1e6d-7b4d-4bcb-b575-fa049fa2a524",
   "metadata": {},
   "source": [
    "## 1. DataFrame Schema and Types"
   ]
  },
  {
   "cell_type": "code",
   "execution_count": 11,
   "id": "1d38ec1f-1ec6-47f3-bc43-016ea5b2d3d8",
   "metadata": {},
   "outputs": [
    {
     "name": "stdout",
     "output_type": "stream",
     "text": [
      "root\n",
      " |-- Name: string (nullable = true)\n",
      " |-- Years: double (nullable = true)\n",
      "\n"
     ]
    },
    {
     "data": {
      "text/plain": [
       "[('Name', 'string'), ('Years', 'double')]"
      ]
     },
     "execution_count": 11,
     "metadata": {},
     "output_type": "execute_result"
    }
   ],
   "source": [
    "df.printSchema()\n",
    "df.dtypes"
   ]
  },
  {
   "cell_type": "markdown",
   "id": "f5739346-b3a4-48bb-baff-5277d58019b6",
   "metadata": {},
   "source": [
    "## 1. Filter with Multiple Conditions"
   ]
  },
  {
   "cell_type": "code",
   "execution_count": 13,
   "id": "f238f805-c869-40fa-b31b-75f7109bc6a3",
   "metadata": {},
   "outputs": [
    {
     "name": "stdout",
     "output_type": "stream",
     "text": [
      "+-------+----+\n",
      "|   Name| Age|\n",
      "+-------+----+\n",
      "|  Alice|30.0|\n",
      "|Charlie|35.0|\n",
      "|    Eve|28.0|\n",
      "+-------+----+\n",
      "\n"
     ]
    }
   ],
   "source": [
    "df = spark.read.csv(\"file_with_nulls.csv\", header=True, inferSchema=True)\n",
    "\n",
    "df.filter((df.Age > 25) & (df.Name != \"Bob\")).show()"
   ]
  },
  {
   "cell_type": "markdown",
   "id": "b6b031ff-3644-4bce-9092-6cd3cf85e677",
   "metadata": {},
   "source": [
    "## 8. Stop the SparkSession"
   ]
  },
  {
   "cell_type": "code",
   "execution_count": 2,
   "id": "fd65b10d-936a-49d4-ad53-62ab439b773d",
   "metadata": {},
   "outputs": [],
   "source": [
    "spark.stop()"
   ]
  }
 ],
 "metadata": {
  "kernelspec": {
   "display_name": "Python 3 (ipykernel)",
   "language": "python",
   "name": "python3"
  },
  "language_info": {
   "codemirror_mode": {
    "name": "ipython",
    "version": 3
   },
   "file_extension": ".py",
   "mimetype": "text/x-python",
   "name": "python",
   "nbconvert_exporter": "python",
   "pygments_lexer": "ipython3",
   "version": "3.11.6"
  }
 },
 "nbformat": 4,
 "nbformat_minor": 5
}
