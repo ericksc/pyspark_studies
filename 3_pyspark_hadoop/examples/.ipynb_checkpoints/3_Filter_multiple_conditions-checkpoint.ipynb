{
 "cells": [
  {
   "cell_type": "markdown",
   "id": "24702344-beb2-42a0-94d9-49a765597923",
   "metadata": {},
   "source": [
    "In PySpark, you can use multiple conditions in a filter() (or where()) clause by combining column expressions with logical operators such as & (and), | (or), and ~ (not).\n",
    "\n",
    "Here’s how to modify your example to filter on two or more columns:"
   ]
  },
  {
   "cell_type": "markdown",
   "id": "66c4e934-8374-41c0-b5bd-008ce1d0c358",
   "metadata": {},
   "source": [
    "# Example: Select columns and filter rows using multiple conditions"
   ]
  },
  {
   "cell_type": "code",
   "execution_count": 2,
   "id": "acf9250c-8892-43af-a89b-9c8a81d5b46c",
   "metadata": {},
   "outputs": [],
   "source": [
    "from pyspark.sql import SparkSession\n",
    "from pyspark.sql.functions import col"
   ]
  },
  {
   "cell_type": "code",
   "execution_count": 3,
   "id": "e78a7593-dbf7-43d2-af3b-922bbafa642d",
   "metadata": {},
   "outputs": [],
   "source": [
    "# Start Spark session\n",
    "spark = SparkSession.builder.appName(\"FilterExample\").getOrCreate()"
   ]
  },
  {
   "cell_type": "code",
   "execution_count": 4,
   "id": "73bd84c5-f1e4-4c5c-97b5-e3339efa7095",
   "metadata": {},
   "outputs": [],
   "source": [
    "# Sample data\n",
    "data = [\n",
    "    (\"Alice\", 30, \"NY\"),\n",
    "    (\"Bob\", 25, \"CA\"),\n",
    "    (\"Charlie\", 35, \"NY\"),\n",
    "    (\"David\", 28, \"TX\"),\n",
    "]"
   ]
  },
  {
   "cell_type": "code",
   "execution_count": 5,
   "id": "2f9be308-256b-4bc6-b10a-3d458a957af4",
   "metadata": {},
   "outputs": [],
   "source": [
    "# Create DataFrame\n",
    "df = spark.createDataFrame(data, [\"Name\", \"Age\", \"State\"])"
   ]
  },
  {
   "cell_type": "code",
   "execution_count": 6,
   "id": "44d0bd76-9b8a-4217-a053-f26c5590e149",
   "metadata": {},
   "outputs": [
    {
     "name": "stdout",
     "output_type": "stream",
     "text": [
      "+-------+---+-----+\n",
      "|   Name|Age|State|\n",
      "+-------+---+-----+\n",
      "|  Alice| 30|   NY|\n",
      "|Charlie| 35|   NY|\n",
      "+-------+---+-----+\n",
      "\n"
     ]
    }
   ],
   "source": [
    "# Select columns and filter with multiple conditions\n",
    "filtered_df = df.select(\"Name\", \"Age\", \"State\").filter(\n",
    "    (col(\"Age\") > 26) & (col(\"State\") == \"NY\")\n",
    ")\n",
    "\n",
    "# Show result\n",
    "filtered_df.show()\n"
   ]
  },
  {
   "cell_type": "markdown",
   "id": "5dd67844-cf84-4d10-a814-7de82dbb8606",
   "metadata": {},
   "source": [
    "### Explanation:\n",
    "col(\"Age\") > 26: checks if age is greater than 26.\n",
    "\n",
    "col(\"State\") == \"NY\": checks if state is NY.\n",
    "\n",
    "& is the logical AND operator (wrap each condition in parentheses!).\n",
    "\n",
    "### Other operators you can use:\n",
    "|: OR\n",
    "\n",
    "~: NOT"
   ]
  },
  {
   "cell_type": "markdown",
   "id": "951893c9-f4f7-4bc9-8db9-d37900139565",
   "metadata": {},
   "source": [
    "## Example using OR"
   ]
  },
  {
   "cell_type": "code",
   "execution_count": 7,
   "id": "262bb48e-79b0-4425-9dc9-995e36ee2ef9",
   "metadata": {},
   "outputs": [
    {
     "name": "stdout",
     "output_type": "stream",
     "text": [
      "+-------+---+-----+\n",
      "|   Name|Age|State|\n",
      "+-------+---+-----+\n",
      "|Charlie| 35|   NY|\n",
      "|  David| 28|   TX|\n",
      "+-------+---+-----+\n",
      "\n"
     ]
    }
   ],
   "source": [
    "df.filter((col(\"Age\") > 30) | (col(\"State\") == \"TX\")).show()"
   ]
  },
  {
   "cell_type": "markdown",
   "id": "7463a084-1657-468a-9cfa-93063b46af41",
   "metadata": {},
   "source": [
    "## 8. Stop the SparkSession"
   ]
  },
  {
   "cell_type": "code",
   "execution_count": null,
   "id": "daa96d0d-258b-474f-ad2c-b2214339d8ab",
   "metadata": {},
   "outputs": [],
   "source": [
    "spark.stop()"
   ]
  }
 ],
 "metadata": {
  "kernelspec": {
   "display_name": "Python 3 (ipykernel)",
   "language": "python",
   "name": "python3"
  },
  "language_info": {
   "codemirror_mode": {
    "name": "ipython",
    "version": 3
   },
   "file_extension": ".py",
   "mimetype": "text/x-python",
   "name": "python",
   "nbconvert_exporter": "python",
   "pygments_lexer": "ipython3",
   "version": "3.11.6"
  }
 },
 "nbformat": 4,
 "nbformat_minor": 5
}
