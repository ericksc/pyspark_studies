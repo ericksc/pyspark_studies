{
 "cells": [
  {
   "cell_type": "markdown",
   "id": "fbf48adc",
   "metadata": {},
   "source": [
    "# PySpark HDFS Example\n",
    "This notebook demonstrates reading from and writing to HDFS using PySpark."
   ]
  },
  {
   "cell_type": "code",
   "execution_count": null,
   "id": "f1fbe657",
   "metadata": {},
   "outputs": [],
   "source": [
    "\n",
    "from pyspark.sql import SparkSession\n",
    "\n",
    "# Create Spark session\n",
    "spark = SparkSession.builder \\\n",
    "    .appName(\"HDFSReadWriteExample\") \\\n",
    "    .getOrCreate()\n"
   ]
  },
  {
   "cell_type": "markdown",
   "id": "b606b6df",
   "metadata": {},
   "source": [
    "## Generate Sample DataFrame"
   ]
  },
  {
   "cell_type": "code",
   "execution_count": null,
   "id": "8921ffac",
   "metadata": {},
   "outputs": [],
   "source": [
    "\n",
    "# Sample data\n",
    "data = [(\"Alice\", 34), (\"Bob\", 45), (\"Cathy\", 29)]\n",
    "df = spark.createDataFrame(data, [\"name\", \"age\"])\n",
    "df.show()\n"
   ]
  },
  {
   "cell_type": "markdown",
   "id": "99c7c98a",
   "metadata": {},
   "source": [
    "## Write DataFrame to HDFS"
   ]
  },
  {
   "cell_type": "code",
   "execution_count": null,
   "id": "ebdf6247",
   "metadata": {},
   "outputs": [],
   "source": [
    "\n",
    "# Write to HDFS in CSV format\n",
    "hdfs_path = \"hdfs://namenode:8020/user/data/people\"\n",
    "df.write.mode(\"overwrite\").csv(hdfs_path)\n",
    "print(\"Data written to HDFS at:\", hdfs_path)\n"
   ]
  },
  {
   "cell_type": "markdown",
   "id": "5939175d",
   "metadata": {},
   "source": [
    "## Read DataFrame from HDFS"
   ]
  },
  {
   "cell_type": "code",
   "execution_count": null,
   "id": "37de9aa4",
   "metadata": {},
   "outputs": [],
   "source": [
    "\n",
    "# Read back from HDFS\n",
    "df_read = spark.read.csv(hdfs_path, inferSchema=True, header=False)\n",
    "df_read.show()\n"
   ]
  },
  {
   "cell_type": "markdown",
   "id": "7f1440f7",
   "metadata": {},
   "source": [
    "## Done"
   ]
  }
 ],
 "metadata": {},
 "nbformat": 4,
 "nbformat_minor": 5
}
