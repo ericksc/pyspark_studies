{
 "cells": [
  {
   "cell_type": "markdown",
   "id": "f4d712ff",
   "metadata": {},
   "source": [
    "# Why PySpark?\n",
    "\n",
    "**PySpark** is the Python API for Apache Spark — a powerful distributed computing engine. It enables Python developers and data scientists to leverage the full power of Spark while working in a familiar language."
   ]
  },
  {
   "cell_type": "markdown",
   "id": "50962e8c",
   "metadata": {},
   "source": [
    "##  Key Benefits of PySpark\n",
    "\n",
    "| Feature                | Benefit                                                                 |\n",
    "|------------------------|-------------------------------------------------------------------------|\n",
    "| **Scalability**        | Process data at petabyte scale across distributed clusters              |\n",
    "| **Speed**              | In-memory computation makes PySpark much faster than traditional tools  |\n",
    "| **Ease of Use**        | Write Spark jobs using familiar Python syntax                          |\n",
    "| **Ecosystem**          | Integrates with Hadoop, HDFS, Hive, HBase, Kafka, Cassandra, etc.       |\n",
    "| **Libraries**          | Includes libraries for SQL (Spark SQL), streaming (Structured Streaming), ML (MLlib), and Graph (GraphX) |\n",
    "| **Cloud Ready**        | Runs on AWS EMR, Google Dataproc, Azure HDInsight, and Kubernetes       |"
   ]
  },
  {
   "cell_type": "markdown",
   "id": "d23bec35",
   "metadata": {},
   "source": [
    "## Basic Example of PySpark\n",
    "\n",
    "Reading a CSV and performing some basic transformations."
   ]
  },
  {
   "cell_type": "code",
   "execution_count": null,
   "id": "c18934cd",
   "metadata": {},
   "outputs": [],
   "source": [
    "from pyspark.sql import SparkSession\n",
    "from pyspark.sql.functions import col\n",
    "\n",
    "spark = SparkSession.builder.appName(\"WhyPySparkDemo\").getOrCreate()\n",
    "\n",
    "# Read CSV file\n",
    "df = spark.read.csv(\"sample.csv\", header=True, inferSchema=True)\n",
    "\n",
    "# Filter and select columns\n",
    "df_filtered = df.select(\"Name\", \"Age\").filter(col(\"Age\") > 25)\n",
    "df_filtered.show()"
   ]
  }
 ],
 "metadata": {
  "kernelspec": {
   "display_name": "Python 3 (ipykernel)",
   "language": "python",
   "name": "python3"
  },
  "language_info": {
   "codemirror_mode": {
    "name": "ipython",
    "version": 3
   },
   "file_extension": ".py",
   "mimetype": "text/x-python",
   "name": "python",
   "nbconvert_exporter": "python",
   "pygments_lexer": "ipython3",
   "version": "3.11.6"
  }
 },
 "nbformat": 4,
 "nbformat_minor": 5
}
