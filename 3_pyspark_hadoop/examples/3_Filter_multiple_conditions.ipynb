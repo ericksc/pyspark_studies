{
 "cells": [
  {
   "cell_type": "markdown",
   "id": "24702344-beb2-42a0-94d9-49a765597923",
   "metadata": {},
   "source": [
    "In PySpark, you can use multiple conditions in a filter() (or where()) clause by combining column expressions with logical operators such as & (and), | (or), and ~ (not).\n",
    "\n",
    "Here’s how to modify your example to filter on two or more columns:"
   ]
  },
  {
   "cell_type": "markdown",
   "id": "66c4e934-8374-41c0-b5bd-008ce1d0c358",
   "metadata": {},
   "source": [
    "# Example: Select columns and filter rows using multiple conditions"
   ]
  },
  {
   "cell_type": "code",
   "execution_count": 8,
   "id": "acf9250c-8892-43af-a89b-9c8a81d5b46c",
   "metadata": {},
   "outputs": [],
   "source": [
    "from pyspark.sql import SparkSession\n",
    "from pyspark.sql.functions import col"
   ]
  },
  {
   "cell_type": "code",
   "execution_count": 9,
   "id": "e78a7593-dbf7-43d2-af3b-922bbafa642d",
   "metadata": {},
   "outputs": [],
   "source": [
    "# Start Spark session\n",
    "spark = SparkSession.builder.appName(\"FilterExample\").getOrCreate()"
   ]
  },
  {
   "cell_type": "code",
   "execution_count": 10,
   "id": "73bd84c5-f1e4-4c5c-97b5-e3339efa7095",
   "metadata": {},
   "outputs": [],
   "source": [
    "# Sample data\n",
    "data = [\n",
    "    (\"Alice\", 30, \"NY\"),\n",
    "    (\"Bob\", 25, \"CA\"),\n",
    "    (\"Charlie\", 35, \"NY\"),\n",
    "    (\"David\", 28, \"TX\"),\n",
    "]"
   ]
  },
  {
   "cell_type": "code",
   "execution_count": 11,
   "id": "2f9be308-256b-4bc6-b10a-3d458a957af4",
   "metadata": {},
   "outputs": [],
   "source": [
    "# Create DataFrame\n",
    "df = spark.createDataFrame(data, [\"Name\", \"Age\", \"State\"])"
   ]
  },
  {
   "cell_type": "code",
   "execution_count": 12,
   "id": "4b566dcd-1aa2-4d4e-aeb2-e9514ab1ac4d",
   "metadata": {},
   "outputs": [
    {
     "name": "stdout",
     "output_type": "stream",
     "text": [
      "+-------+---+-----+\n",
      "|   Name|Age|State|\n",
      "+-------+---+-----+\n",
      "|  Alice| 30|   NY|\n",
      "|    Bob| 25|   CA|\n",
      "|Charlie| 35|   NY|\n",
      "|  David| 28|   TX|\n",
      "+-------+---+-----+\n",
      "\n"
     ]
    }
   ],
   "source": [
    "df.show()"
   ]
  },
  {
   "cell_type": "code",
   "execution_count": 13,
   "id": "44d0bd76-9b8a-4217-a053-f26c5590e149",
   "metadata": {},
   "outputs": [
    {
     "name": "stdout",
     "output_type": "stream",
     "text": [
      "+-------+---+-----+\n",
      "|   Name|Age|State|\n",
      "+-------+---+-----+\n",
      "|  Alice| 30|   NY|\n",
      "|Charlie| 35|   NY|\n",
      "+-------+---+-----+\n",
      "\n"
     ]
    }
   ],
   "source": [
    "# Select columns and filter with multiple conditions\n",
    "filtered_df = df.select(\"Name\", \"Age\", \"State\").filter(\n",
    "    (col(\"Age\") > 26) & (col(\"State\") == \"NY\")\n",
    ")\n",
    "\n",
    "# Show result\n",
    "filtered_df.show()\n"
   ]
  },
  {
   "cell_type": "markdown",
   "id": "5dd67844-cf84-4d10-a814-7de82dbb8606",
   "metadata": {},
   "source": [
    "### Explanation:\n",
    "col(\"Age\") > 26: checks if age is greater than 26.\n",
    "\n",
    "col(\"State\") == \"NY\": checks if state is NY.\n",
    "\n",
    "& is the logical AND operator (wrap each condition in parentheses!).\n",
    "\n",
    "### Other operators you can use:\n",
    "|: OR\n",
    "\n",
    "~: NOT"
   ]
  },
  {
   "cell_type": "markdown",
   "id": "951893c9-f4f7-4bc9-8db9-d37900139565",
   "metadata": {},
   "source": [
    "## Example using OR"
   ]
  },
  {
   "cell_type": "code",
   "execution_count": 7,
   "id": "262bb48e-79b0-4425-9dc9-995e36ee2ef9",
   "metadata": {},
   "outputs": [
    {
     "name": "stdout",
     "output_type": "stream",
     "text": [
      "+-------+---+-----+\n",
      "|   Name|Age|State|\n",
      "+-------+---+-----+\n",
      "|Charlie| 35|   NY|\n",
      "|  David| 28|   TX|\n",
      "+-------+---+-----+\n",
      "\n"
     ]
    }
   ],
   "source": [
    "df.filter((col(\"Age\") > 30) | (col(\"State\") == \"TX\")).show()"
   ]
  },
  {
   "cell_type": "markdown",
   "id": "7463a084-1657-468a-9cfa-93063b46af41",
   "metadata": {},
   "source": [
    "## 8. Stop the SparkSession"
   ]
  },
  {
   "cell_type": "code",
   "execution_count": 14,
   "id": "daa96d0d-258b-474f-ad2c-b2214339d8ab",
   "metadata": {},
   "outputs": [],
   "source": [
    "spark.stop()"
   ]
  },
  {
   "cell_type": "code",
   "execution_count": null,
   "id": "b9e32b26-1855-4206-b9b4-9a1d9a90ca85",
   "metadata": {},
   "outputs": [
    {
     "name": "stdout",
     "output_type": "stream",
     "text": [
      "import _frozen_importlib # frozen\n",
      "import _imp # builtin\n",
      "import '_thread' # <class '_frozen_importlib.BuiltinImporter'>\n",
      "import '_warnings' # <class '_frozen_importlib.BuiltinImporter'>\n",
      "import '_weakref' # <class '_frozen_importlib.BuiltinImporter'>\n",
      "import '_io' # <class '_frozen_importlib.BuiltinImporter'>\n",
      "import 'marshal' # <class '_frozen_importlib.BuiltinImporter'>\n",
      "import 'posix' # <class '_frozen_importlib.BuiltinImporter'>\n",
      "import '_frozen_importlib_external' # <class '_frozen_importlib.FrozenImporter'>\n",
      "# installing zipimport hook\n",
      "import 'time' # <class '_frozen_importlib.BuiltinImporter'>\n",
      "import 'zipimport' # <class '_frozen_importlib.FrozenImporter'>\n",
      "# installed zipimport hook\n",
      "# zipimport: found 10 names in '/usr/local/spark/python/lib/py4j-0.10.9.7-src.zip'\n",
      "# /opt/conda/lib/python3.11/encodings/__pycache__/__init__.cpython-311.pyc matches /opt/conda/lib/python3.11/encodings/__init__.py\n",
      "# code object from '/opt/conda/lib/python3.11/encodings/__pycache__/__init__.cpython-311.pyc'\n",
      "import '_codecs' # <class '_frozen_importlib.BuiltinImporter'>\n",
      "import 'codecs' # <class '_frozen_importlib.FrozenImporter'>\n",
      "# /opt/conda/lib/python3.11/encodings/__pycache__/aliases.cpython-311.pyc matches /opt/conda/lib/python3.11/encodings/aliases.py\n",
      "# code object from '/opt/conda/lib/python3.11/encodings/__pycache__/aliases.cpython-311.pyc'\n",
      "import 'encodings.aliases' # <_frozen_importlib_external.SourceFileLoader object at 0x7f075db05810>\n",
      "import 'encodings' # <_frozen_importlib_external.SourceFileLoader object at 0x7f075daf5c50>\n",
      "# /opt/conda/lib/python3.11/encodings/__pycache__/utf_8.cpython-311.pyc matches /opt/conda/lib/python3.11/encodings/utf_8.py\n",
      "# code object from '/opt/conda/lib/python3.11/encodings/__pycache__/utf_8.cpython-311.pyc'\n",
      "import 'encodings.utf_8' # <_frozen_importlib_external.SourceFileLoader object at 0x7f075daf7610>\n",
      "import '_signal' # <class '_frozen_importlib.BuiltinImporter'>\n",
      "import '_abc' # <class '_frozen_importlib.BuiltinImporter'>\n",
      "import 'abc' # <class '_frozen_importlib.FrozenImporter'>\n",
      "import 'io' # <class '_frozen_importlib.FrozenImporter'>\n",
      "import '_stat' # <class '_frozen_importlib.BuiltinImporter'>\n",
      "import 'stat' # <class '_frozen_importlib.FrozenImporter'>\n",
      "import '_collections_abc' # <class '_frozen_importlib.FrozenImporter'>\n",
      "import 'genericpath' # <class '_frozen_importlib.FrozenImporter'>\n",
      "import 'posixpath' # <class '_frozen_importlib.FrozenImporter'>\n",
      "import 'os' # <class '_frozen_importlib.FrozenImporter'>\n",
      "import '_sitebuiltins' # <class '_frozen_importlib.FrozenImporter'>\n",
      "Processing user site-packages\n",
      "Processing global site-packages\n",
      "Adding directory: '/opt/conda/lib/python3.11/site-packages'\n",
      "Processing .pth file: '/opt/conda/lib/python3.11/site-packages/distutils-precedence.pth'\n",
      "# /opt/conda/lib/python3.11/site-packages/_distutils_hack/__pycache__/__init__.cpython-311.pyc matches /opt/conda/lib/python3.11/site-packages/_distutils_hack/__init__.py\n",
      "# code object from '/opt/conda/lib/python3.11/site-packages/_distutils_hack/__pycache__/__init__.cpython-311.pyc'\n",
      "import '_distutils_hack' # <_frozen_importlib_external.SourceFileLoader object at 0x7f075d8d7310>\n",
      "Processing .pth file: '/opt/conda/lib/python3.11/site-packages/protobuf-4.24.3-py3.11-nspkg.pth'\n",
      "# /opt/conda/lib/python3.11/__pycache__/types.cpython-311.pyc matches /opt/conda/lib/python3.11/types.py\n",
      "# code object from '/opt/conda/lib/python3.11/__pycache__/types.cpython-311.pyc'\n",
      "import 'types' # <_frozen_importlib_external.SourceFileLoader object at 0x7f075d8e0dd0>\n",
      "# /opt/conda/lib/python3.11/importlib/__pycache__/__init__.cpython-311.pyc matches /opt/conda/lib/python3.11/importlib/__init__.py\n",
      "# code object from '/opt/conda/lib/python3.11/importlib/__pycache__/__init__.cpython-311.pyc'\n",
      "# /opt/conda/lib/python3.11/__pycache__/warnings.cpython-311.pyc matches /opt/conda/lib/python3.11/warnings.py\n",
      "# code object from '/opt/conda/lib/python3.11/__pycache__/warnings.cpython-311.pyc'\n",
      "import 'warnings' # <_frozen_importlib_external.SourceFileLoader object at 0x7f075d8e2910>\n",
      "import 'importlib' # <_frozen_importlib_external.SourceFileLoader object at 0x7f075d8e2590>\n",
      "# /opt/conda/lib/python3.11/importlib/__pycache__/_abc.cpython-311.pyc matches /opt/conda/lib/python3.11/importlib/_abc.py\n",
      "# code object from '/opt/conda/lib/python3.11/importlib/__pycache__/_abc.cpython-311.pyc'\n",
      "import 'importlib._abc' # <_frozen_importlib_external.SourceFileLoader object at 0x7f075d8f8c90>\n",
      "# /opt/conda/lib/python3.11/__pycache__/contextlib.cpython-311.pyc matches /opt/conda/lib/python3.11/contextlib.py\n",
      "# code object from '/opt/conda/lib/python3.11/__pycache__/contextlib.cpython-311.pyc'\n",
      "# /opt/conda/lib/python3.11/collections/__pycache__/__init__.cpython-311.pyc matches /opt/conda/lib/python3.11/collections/__init__.py\n",
      "# code object from '/opt/conda/lib/python3.11/collections/__pycache__/__init__.cpython-311.pyc'\n",
      "import 'itertools' # <class '_frozen_importlib.BuiltinImporter'>\n",
      "# /opt/conda/lib/python3.11/__pycache__/keyword.cpython-311.pyc matches /opt/conda/lib/python3.11/keyword.py\n",
      "# code object from '/opt/conda/lib/python3.11/__pycache__/keyword.cpython-311.pyc'\n",
      "import 'keyword' # <_frozen_importlib_external.SourceFileLoader object at 0x7f075d926490>\n",
      "# /opt/conda/lib/python3.11/__pycache__/operator.cpython-311.pyc matches /opt/conda/lib/python3.11/operator.py\n",
      "# code object from '/opt/conda/lib/python3.11/__pycache__/operator.cpython-311.pyc'\n",
      "import '_operator' # <class '_frozen_importlib.BuiltinImporter'>\n",
      "import 'operator' # <_frozen_importlib_external.SourceFileLoader object at 0x7f075d926f50>\n",
      "# /opt/conda/lib/python3.11/__pycache__/reprlib.cpython-311.pyc matches /opt/conda/lib/python3.11/reprlib.py\n",
      "# code object from '/opt/conda/lib/python3.11/__pycache__/reprlib.cpython-311.pyc'\n",
      "import 'reprlib' # <_frozen_importlib_external.SourceFileLoader object at 0x7f075d927c10>\n",
      "import '_collections' # <class '_frozen_importlib.BuiltinImporter'>\n",
      "import 'collections' # <_frozen_importlib_external.SourceFileLoader object at 0x7f075d8fa090>\n",
      "# /opt/conda/lib/python3.11/__pycache__/functools.cpython-311.pyc matches /opt/conda/lib/python3.11/functools.py\n",
      "# code object from '/opt/conda/lib/python3.11/__pycache__/functools.cpython-311.pyc'\n",
      "import '_functools' # <class '_frozen_importlib.BuiltinImporter'>\n",
      "import 'functools' # <_frozen_importlib_external.SourceFileLoader object at 0x7f075d8fb590>\n",
      "import 'contextlib' # <_frozen_importlib_external.SourceFileLoader object at 0x7f075d8e0e10>\n",
      "import 'importlib.util' # <class '_frozen_importlib.FrozenImporter'>\n",
      "import 'importlib.machinery' # <class '_frozen_importlib.FrozenImporter'>\n",
      "# possible namespace for /opt/conda/lib/python3.11/site-packages/google\n",
      "import 'site' # <class '_frozen_importlib.FrozenImporter'>\n",
      "# extension module 'readline' loaded from '/opt/conda/lib/python3.11/lib-dynload/readline.cpython-311-x86_64-linux-gnu.so'\n",
      "# extension module 'readline' executed from '/opt/conda/lib/python3.11/lib-dynload/readline.cpython-311-x86_64-linux-gnu.so'\n",
      "import 'readline' # <_frozen_importlib_external.ExtensionFileLoader object at 0x7f075d8e08d0>\n",
      "# /opt/conda/lib/python3.11/__pycache__/rlcompleter.cpython-311.pyc matches /opt/conda/lib/python3.11/rlcompleter.py\n",
      "# code object from '/opt/conda/lib/python3.11/__pycache__/rlcompleter.cpython-311.pyc'\n",
      "import 'atexit' # <class '_frozen_importlib.BuiltinImporter'>\n",
      "# /opt/conda/lib/python3.11/__pycache__/inspect.cpython-311.pyc matches /opt/conda/lib/python3.11/inspect.py\n",
      "# code object from '/opt/conda/lib/python3.11/__pycache__/inspect.cpython-311.pyc'\n",
      "# /opt/conda/lib/python3.11/__pycache__/ast.cpython-311.pyc matches /opt/conda/lib/python3.11/ast.py\n",
      "# code object from '/opt/conda/lib/python3.11/__pycache__/ast.cpython-311.pyc'\n",
      "import '_ast' # <class '_frozen_importlib.BuiltinImporter'>\n",
      "# /opt/conda/lib/python3.11/__pycache__/enum.cpython-311.pyc matches /opt/conda/lib/python3.11/enum.py\n",
      "# code object from '/opt/conda/lib/python3.11/__pycache__/enum.cpython-311.pyc'\n",
      "import 'enum' # <_frozen_importlib_external.SourceFileLoader object at 0x7f075d715e10>\n",
      "import 'ast' # <_frozen_importlib_external.SourceFileLoader object at 0x7f075d971050>\n",
      "# /opt/conda/lib/python3.11/__pycache__/dis.cpython-311.pyc matches /opt/conda/lib/python3.11/dis.py\n",
      "# code object from '/opt/conda/lib/python3.11/__pycache__/dis.cpython-311.pyc'\n",
      "# /opt/conda/lib/python3.11/__pycache__/opcode.cpython-311.pyc matches /opt/conda/lib/python3.11/opcode.py\n",
      "# code object from '/opt/conda/lib/python3.11/__pycache__/opcode.cpython-311.pyc'\n",
      "# extension module '_opcode' loaded from '/opt/conda/lib/python3.11/lib-dynload/_opcode.cpython-311-x86_64-linux-gnu.so'\n",
      "# extension module '_opcode' executed from '/opt/conda/lib/python3.11/lib-dynload/_opcode.cpython-311-x86_64-linux-gnu.so'\n",
      "import '_opcode' # <_frozen_importlib_external.ExtensionFileLoader object at 0x7f075d7515d0>\n",
      "import 'opcode' # <_frozen_importlib_external.SourceFileLoader object at 0x7f075d74a550>\n",
      "import 'dis' # <_frozen_importlib_external.SourceFileLoader object at 0x7f075d973c90>\n",
      "# /opt/conda/lib/python3.11/collections/__pycache__/abc.cpython-311.pyc matches /opt/conda/lib/python3.11/collections/abc.py\n",
      "# code object from '/opt/conda/lib/python3.11/collections/__pycache__/abc.cpython-311.pyc'\n",
      "import 'collections.abc' # <_frozen_importlib_external.SourceFileLoader object at 0x7f075d754490>\n",
      "# /opt/conda/lib/python3.11/__pycache__/linecache.cpython-311.pyc matches /opt/conda/lib/python3.11/linecache.py\n",
      "# code object from '/opt/conda/lib/python3.11/__pycache__/linecache.cpython-311.pyc'\n",
      "# /opt/conda/lib/python3.11/__pycache__/tokenize.cpython-311.pyc matches /opt/conda/lib/python3.11/tokenize.py\n",
      "# code object from '/opt/conda/lib/python3.11/__pycache__/tokenize.cpython-311.pyc'\n",
      "# /opt/conda/lib/python3.11/re/__pycache__/__init__.cpython-311.pyc matches /opt/conda/lib/python3.11/re/__init__.py\n",
      "# code object from '/opt/conda/lib/python3.11/re/__pycache__/__init__.cpython-311.pyc'\n",
      "# /opt/conda/lib/python3.11/re/__pycache__/_compiler.cpython-311.pyc matches /opt/conda/lib/python3.11/re/_compiler.py\n",
      "# code object from '/opt/conda/lib/python3.11/re/__pycache__/_compiler.cpython-311.pyc'\n",
      "import '_sre' # <class '_frozen_importlib.BuiltinImporter'>\n",
      "# /opt/conda/lib/python3.11/re/__pycache__/_parser.cpython-311.pyc matches /opt/conda/lib/python3.11/re/_parser.py\n",
      "# code object from '/opt/conda/lib/python3.11/re/__pycache__/_parser.cpython-311.pyc'\n",
      "# /opt/conda/lib/python3.11/re/__pycache__/_constants.cpython-311.pyc matches /opt/conda/lib/python3.11/re/_constants.py\n",
      "# code object from '/opt/conda/lib/python3.11/re/__pycache__/_constants.cpython-311.pyc'\n",
      "import 're._constants' # <_frozen_importlib_external.SourceFileLoader object at 0x7f075d780b50>\n",
      "import 're._parser' # <_frozen_importlib_external.SourceFileLoader object at 0x7f075d76db50>\n",
      "# /opt/conda/lib/python3.11/re/__pycache__/_casefix.cpython-311.pyc matches /opt/conda/lib/python3.11/re/_casefix.py\n",
      "# code object from '/opt/conda/lib/python3.11/re/__pycache__/_casefix.cpython-311.pyc'\n",
      "import 're._casefix' # <_frozen_importlib_external.SourceFileLoader object at 0x7f075d78c4d0>\n",
      "import 're._compiler' # <_frozen_importlib_external.SourceFileLoader object at 0x7f075d7624d0>\n",
      "# /opt/conda/lib/python3.11/__pycache__/copyreg.cpython-311.pyc matches /opt/conda/lib/python3.11/copyreg.py\n",
      "# code object from '/opt/conda/lib/python3.11/__pycache__/copyreg.cpython-311.pyc'\n",
      "import 'copyreg' # <_frozen_importlib_external.SourceFileLoader object at 0x7f075d78d950>\n",
      "import 're' # <_frozen_importlib_external.SourceFileLoader object at 0x7f075d760cd0>\n",
      "# /opt/conda/lib/python3.11/__pycache__/token.cpython-311.pyc matches /opt/conda/lib/python3.11/token.py\n",
      "# code object from '/opt/conda/lib/python3.11/__pycache__/token.cpython-311.pyc'\n",
      "import 'token' # <_frozen_importlib_external.SourceFileLoader object at 0x7f075d761650>\n",
      "import 'tokenize' # <_frozen_importlib_external.SourceFileLoader object at 0x7f075d755c10>\n",
      "import 'linecache' # <_frozen_importlib_external.SourceFileLoader object at 0x7f075d751910>\n",
      "import 'inspect' # <_frozen_importlib_external.SourceFileLoader object at 0x7f075d955990>\n",
      "import 'rlcompleter' # <_frozen_importlib_external.SourceFileLoader object at 0x7f075d954ed0>\n",
      "Python 3.11.6 | packaged by conda-forge | (main, Oct  3 2023, 10:40:35) [GCC 12.3.0] on linux\n",
      "Type \"help\", \"copyright\", \"credits\" or \"license\" for more information.\n",
      ">>> "
     ]
    }
   ],
   "source": [
    "!python -v"
   ]
  },
  {
   "cell_type": "code",
   "execution_count": null,
   "id": "3eabbc84-d46d-4198-bc8d-cbdd0b20dd5b",
   "metadata": {},
   "outputs": [],
   "source": []
  }
 ],
 "metadata": {
  "kernelspec": {
   "display_name": "Python 3 (ipykernel)",
   "language": "python",
   "name": "python3"
  },
  "language_info": {
   "codemirror_mode": {
    "name": "ipython",
    "version": 3
   },
   "file_extension": ".py",
   "mimetype": "text/x-python",
   "name": "python",
   "nbconvert_exporter": "python",
   "pygments_lexer": "ipython3",
   "version": "3.11.6"
  }
 },
 "nbformat": 4,
 "nbformat_minor": 5
}
