{
 "cells": [
  {
   "cell_type": "markdown",
   "id": "95826449",
   "metadata": {},
   "source": [
    "# PySpark Temporary and Global Temporary Views\n",
    "\n",
    "This notebook explains how to use `createOrReplaceTempView` and `createGlobalTempView` in PySpark with theory, examples, and practice exercises."
   ]
  },
  {
   "cell_type": "markdown",
   "id": "ee7c475b",
   "metadata": {},
   "source": [
    "## Temporary Views in PySpark\n",
    "\n",
    "**Definition**: A temporary view is a table-like structure created from a DataFrame that is registered to the current SparkSession. It can be queried using SQL.\n",
    "\n",
    "- Scope: Session-local\n",
    "- Use SQL directly on top of DataFrames\n",
    "- Not persisted to disk\n",
    "\n",
    "**Syntax**:\n",
    "```python\n",
    "df.createOrReplaceTempView(\"view_name\")\n",
    "spark.sql(\"SELECT * FROM view_name\").show()\n",
    "```"
   ]
  },
  {
   "cell_type": "code",
   "execution_count": 1,
   "id": "05bf2d8c",
   "metadata": {},
   "outputs": [
    {
     "name": "stdout",
     "output_type": "stream",
     "text": [
      "+-----+---+\n",
      "| Name|Age|\n",
      "+-----+---+\n",
      "|Alice| 34|\n",
      "|  Bob| 45|\n",
      "+-----+---+\n",
      "\n"
     ]
    }
   ],
   "source": [
    "from pyspark.sql import SparkSession\n",
    "spark = SparkSession.builder.appName(\"TempTableExample\").getOrCreate()\n",
    "\n",
    "data = [(\"Alice\", 34), (\"Bob\", 45), (\"Cathy\", 29)]\n",
    "columns = [\"Name\", \"Age\"]\n",
    "df = spark.createDataFrame(data, columns)\n",
    "\n",
    "df.createOrReplaceTempView(\"people\")\n",
    "spark.sql(\"SELECT * FROM people WHERE Age > 30\").show()"
   ]
  },
  {
   "cell_type": "markdown",
   "id": "e120c3ba",
   "metadata": {},
   "source": [
    "## Global Temporary Views\n",
    "\n",
    "**Definition**: A global temporary view is shared across all SparkSessions in the same Spark application. It is registered in the `global_temp` database.\n",
    "\n",
    "- Scope: All sessions in same app\n",
    "- Use SQL with `global_temp.view_name`\n",
    "- Not persisted to disk\n",
    "\n",
    "**Syntax**:\n",
    "```python\n",
    "df.createGlobalTempView(\"view_name\")\n",
    "spark.sql(\"SELECT * FROM global_temp.view_name\").show()\n",
    "```"
   ]
  },
  {
   "cell_type": "markdown",
   "id": "8171c31d-0d23-49db-accc-58493088cf75",
   "metadata": {},
   "source": [
    "Note: You must prefix it with global_temp. when querying."
   ]
  },
  {
   "cell_type": "markdown",
   "id": "06807609",
   "metadata": {},
   "source": [
    "## Exercise 1: Uppercase Names from Temp View\n",
    "**Task**: Create a temp view and select names in uppercase where age < 35"
   ]
  },
  {
   "cell_type": "code",
   "execution_count": 2,
   "id": "c9f9ae70",
   "metadata": {},
   "outputs": [
    {
     "name": "stdout",
     "output_type": "stream",
     "text": [
      "+----------+\n",
      "|Name_Upper|\n",
      "+----------+\n",
      "|      ANNA|\n",
      "|      JOHN|\n",
      "+----------+\n",
      "\n"
     ]
    }
   ],
   "source": [
    "data = [(\"Anna\", 30), (\"John\", 25), (\"Laura\", 45)]\n",
    "df = spark.createDataFrame(data, [\"Name\", \"Age\"])\n",
    "df.createOrReplaceTempView(\"test_view\")\n",
    "\n",
    "spark.sql(\"SELECT UPPER(Name) AS Name_Upper FROM test_view WHERE Age < 35\").show()"
   ]
  },
  {
   "cell_type": "markdown",
   "id": "610ee9d8",
   "metadata": {},
   "source": [
    "## Exercise 2: Join Two Temp Views\n",
    "**Task**: Join a department view with a people view and select combined data."
   ]
  },
  {
   "cell_type": "code",
   "execution_count": 3,
   "id": "51d52368",
   "metadata": {},
   "outputs": [
    {
     "name": "stdout",
     "output_type": "stream",
     "text": [
      "+----+---+----+\n",
      "|Name|Age|Dept|\n",
      "+----+---+----+\n",
      "|Anna| 30|  HR|\n",
      "|John| 25|  IT|\n",
      "+----+---+----+\n",
      "\n"
     ]
    }
   ],
   "source": [
    "departments = [(\"Anna\", \"HR\"), (\"John\", \"IT\")]\n",
    "df1 = spark.createDataFrame(departments, [\"Name\", \"Dept\"])\n",
    "df1.createOrReplaceTempView(\"dept_view\")\n",
    "\n",
    "people = [(\"Anna\", 30), (\"John\", 25)]\n",
    "df2 = spark.createDataFrame(people, [\"Name\", \"Age\"])\n",
    "df2.createOrReplaceTempView(\"people_view\")\n",
    "\n",
    "spark.sql(\"\"\"\n",
    "    SELECT p.Name, p.Age, d.Dept\n",
    "    FROM people_view p\n",
    "    JOIN dept_view d ON p.Name = d.Name\n",
    "\"\"\").show()"
   ]
  },
  {
   "cell_type": "markdown",
   "id": "59506cee",
   "metadata": {},
   "source": [
    "## Exercise 3: SQL Functions in a Temp View\n",
    "**Task**: Use UPPER() and calculate birth year assuming current year is 2025"
   ]
  },
  {
   "cell_type": "code",
   "execution_count": 4,
   "id": "998fb5ed",
   "metadata": {},
   "outputs": [
    {
     "name": "stdout",
     "output_type": "stream",
     "text": [
      "+-----+----------+---+---------+\n",
      "| Name|Name_Upper|Age|BirthYear|\n",
      "+-----+----------+---+---------+\n",
      "|Alice|     ALICE| 34|     1991|\n",
      "|  Bob|       BOB| 45|     1980|\n",
      "|Cathy|     CATHY| 29|     1996|\n",
      "+-----+----------+---+---------+\n",
      "\n"
     ]
    }
   ],
   "source": [
    "# Simulating CSV content\n",
    "data = [(\"Alice\", 34), (\"Bob\", 45), (\"Cathy\", 29)]\n",
    "df = spark.createDataFrame(data, [\"Name\", \"Age\"])\n",
    "df.createOrReplaceTempView(\"people\")\n",
    "\n",
    "spark.sql(\"\"\"\n",
    "    SELECT \n",
    "        Name,\n",
    "        UPPER(Name) AS Name_Upper,\n",
    "        Age,\n",
    "        2025 - Age AS BirthYear\n",
    "    FROM people\n",
    "    WHERE Age IS NOT NULL\n",
    "\"\"\").show()"
   ]
  },
  {
   "cell_type": "code",
   "execution_count": null,
   "id": "1b8b1b73-e7bc-441d-aea0-4abc7725d05a",
   "metadata": {},
   "outputs": [],
   "source": []
  }
 ],
 "metadata": {
  "kernelspec": {
   "display_name": "Python 3 (ipykernel)",
   "language": "python",
   "name": "python3"
  },
  "language_info": {
   "codemirror_mode": {
    "name": "ipython",
    "version": 3
   },
   "file_extension": ".py",
   "mimetype": "text/x-python",
   "name": "python",
   "nbconvert_exporter": "python",
   "pygments_lexer": "ipython3",
   "version": "3.11.6"
  }
 },
 "nbformat": 4,
 "nbformat_minor": 5
}
