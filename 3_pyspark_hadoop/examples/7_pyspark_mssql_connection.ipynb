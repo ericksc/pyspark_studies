{
 "cells": [
  {
   "cell_type": "markdown",
   "id": "de3d8cd7",
   "metadata": {},
   "source": [
    "# Connect to Microsoft SQL Server using PySpark\n",
    "This notebook demonstrates how to connect to a Microsoft SQL Server database from PySpark using the JDBC driver."
   ]
  },
  {
   "cell_type": "code",
   "execution_count": 38,
   "id": "5568b76c",
   "metadata": {},
   "outputs": [],
   "source": [
    "# Step 1: Import necessary libraries\n",
    "from pyspark.sql import SparkSession"
   ]
  },
  {
   "cell_type": "code",
   "execution_count": 39,
   "id": "f249f417-efae-42d7-a74c-cee63dd119a1",
   "metadata": {},
   "outputs": [
    {
     "name": "stdout",
     "output_type": "stream",
     "text": [
      "./jars/mssql-jdbc-12.10.0.jre11.jar\n"
     ]
    }
   ],
   "source": [
    "!ls ./jars/mssql-jdbc-12.10.0.jre11.jar"
   ]
  },
  {
   "cell_type": "code",
   "execution_count": 40,
   "id": "0c7c2066-5bff-45a5-a50b-776858f3aeaf",
   "metadata": {},
   "outputs": [
    {
     "name": "stdout",
     "output_type": "stream",
     "text": [
      "total 120\n",
      " 0 drwxrwxrwx 1 root   root    512 May 23 23:00 .\n",
      "12 -rw-r--r-- 1 jovyan users  9212 May 23 23:00 7_pyspark_mssql_connection.ipynb\n",
      " 0 -rw-r--r-- 1 jovyan users   123 May 23 22:56 .env\n",
      " 0 drwxr-xr-x 1 jovyan users   512 May 23 22:55 .ipynb_checkpoints\n",
      " 0 drwxr-xr-x 1 jovyan users   512 May 23 22:13 jars\n",
      " 8 -rw-r--r-- 1 jovyan users  6066 May 23 13:47 1_Intro_pyspark_code_part_1.ipynb\n",
      " 8 drwsrws--- 1 jovyan users  4096 May 23 12:45 ..\n",
      "20 -rw-r--r-- 1 jovyan users 19268 May 17 02:05 3_Filter_multiple_conditions.ipynb\n",
      " 8 -rw-r--r-- 1 jovyan users  6062 May 17 01:59 5_essential_pyspark_cheatsheet.ipynb\n",
      "12 -rw-r--r-- 1 jovyan users  9130 May 17 01:45 2_Intro_pyspark_code_part_2.ipynb\n",
      " 0 drwxr-xr-x 1 jovyan users   512 May 17 01:31 my_parquet_file.parquet\n",
      " 4 -rw-r--r-- 1 jovyan users  2649 May 17 00:29 why_pyspark.ipynb\n",
      " 8 -rw-r--r-- 1 jovyan users  5329 May 17 00:26 why_spark_vs_pandas.ipynb\n",
      "12 -rw-r--r-- 1 jovyan users 11564 May 16 21:35 6_pyspark_examples_essentials.ipynb\n",
      " 8 -rw-r--r-- 1 jovyan users  6459 May 16 21:09 4_PySpark_TempView_Examples.ipynb\n",
      " 0 -rw-r--r-- 1 jovyan users    54 May 16 20:47 file_with_nulls.csv\n",
      " 8 -rw-r--r-- 1 jovyan users  6182 May 16 20:40 0_Data_Engineering_Failure_Lessons.ipynb\n",
      " 0 -rw-r--r-- 1 jovyan users    52 May 16 20:26 file.csv\n",
      " 8 -rw-r--r-- 1 jovyan users  5179 May 15 13:36 read_csv_file_group_by.ipynb\n",
      " 0 -rw-r--r-- 1 jovyan users    10 May 15 13:33 merged_output.csv\n",
      " 0 drwxr-xr-x 1 jovyan users   512 May 15 13:30 updated_frequencies.csv\n",
      " 0 -rwxrwxrwx 1 root   root     86 May 15 13:26 sample.csv\n",
      " 4 -rw-r--r-- 1 jovyan users  3174 May 14 20:49 hdfs_pyspark_example.ipynb\n"
     ]
    }
   ],
   "source": [
    "!ls -lsat"
   ]
  },
  {
   "cell_type": "code",
   "execution_count": 41,
   "id": "2a0200da-fc8f-444e-a6d8-1d103eefa381",
   "metadata": {},
   "outputs": [
    {
     "name": "stdout",
     "output_type": "stream",
     "text": [
      "Requirement already satisfied: python-dotenv in /opt/conda/lib/python3.11/site-packages (1.1.0)\n"
     ]
    }
   ],
   "source": [
    "!pip install python-dotenv"
   ]
  },
  {
   "cell_type": "code",
   "execution_count": 42,
   "id": "445cee9c-ffd6-49cc-825b-aa9cd43b1dec",
   "metadata": {},
   "outputs": [],
   "source": [
    "import os\n",
    "from dotenv import load_dotenv"
   ]
  },
  {
   "cell_type": "code",
   "execution_count": 43,
   "id": "0bc33577",
   "metadata": {},
   "outputs": [],
   "source": [
    "# Step 2: Create a Spark session and specify the JDBC driver path\n",
    "spark = SparkSession.builder \\\n",
    "    .appName(\"MSSQL Connection\") \\\n",
    "    .config(\"spark.jars\", \"./jars/mssql-jdbc-12.10.0.jre11.jar\") \\\n",
    "    .getOrCreate()"
   ]
  },
  {
   "cell_type": "code",
   "execution_count": 44,
   "id": "8c5a5113-afd7-4079-8709-43d09b12c7db",
   "metadata": {},
   "outputs": [],
   "source": [
    "# Load environment variables\n",
    "load_dotenv()\n",
    "\n",
    "# Retrieve secrets\n",
    "host = os.getenv(\"host\")\n",
    "port = os.getenv(\"port\")\n",
    "username = os.getenv(\"username\")\n",
    "password = os.getenv(\"password\")\n",
    "database = os.getenv(\"database\")"
   ]
  },
  {
   "cell_type": "code",
   "execution_count": 45,
   "id": "10ac5806",
   "metadata": {},
   "outputs": [],
   "source": [
    "# Step 3: Define the JDBC URL and connection properties\n",
    "jdbc_url = f\"jdbc:sqlserver://{host}:{port};databaseName={database};encrypt=true\"\n",
    "\n",
    "jdbc_url = f\"jdbc:sqlserver://{host}:{port};databaseName={database};encrypt=true;trustServerCertificate=true\"\n",
    "    \n",
    "\n",
    "connection_properties = {\n",
    "    \"user\": username,\n",
    "    \"password\": password,\n",
    "    \"driver\": \"com.microsoft.sqlserver.jdbc.SQLServerDriver\"\n",
    "}"
   ]
  },
  {
   "cell_type": "code",
   "execution_count": 46,
   "id": "d4611eb4",
   "metadata": {},
   "outputs": [
    {
     "name": "stdout",
     "output_type": "stream",
     "text": [
      "+----------+--------+-------------------+-------+\n",
      "|     Fecha|Producto|              Lugar| Precio|\n",
      "+----------+--------+-------------------+-------+\n",
      "|2023-01-01|  azucar|perimercados escazu|1998.75|\n",
      "|2023-01-01|frijoles|     pali santa ana|1999.53|\n",
      "|2023-01-01|    atun|automercado heredia| 901.14|\n",
      "|2023-01-01|    jugo|automercado heredia|  497.8|\n",
      "|2023-01-01|  pepino|     pali santa ana|1498.21|\n",
      "|2023-01-01|  pepino|perimercados escazu|1501.71|\n",
      "|2023-01-01|   leche|perimercados escazu| 797.18|\n",
      "|2023-01-01|   queso|    masxmenos belen|2004.48|\n",
      "|2023-01-01|  tomate|perimercados escazu|2503.08|\n",
      "|2023-01-01|  azucar|automercado heredia|2002.03|\n",
      "|2023-01-01|  tomate|perimercados escazu|2502.59|\n",
      "|2023-01-01|    atun|     pali santa ana| 901.23|\n",
      "|2023-01-01|     pan|automercado heredia|1499.88|\n",
      "|2023-01-01|   leche|perimercados escazu| 800.86|\n",
      "|2023-01-01|    jugo|    masxmenos belen| 499.63|\n",
      "|2023-01-01|frijoles|    masxmenos belen|2000.42|\n",
      "|2023-01-01|   queso|automercado heredia|2000.02|\n",
      "|2023-01-01|     pan|     pali santa ana|1501.67|\n",
      "|2023-01-01|    jugo|automercado heredia| 497.29|\n",
      "|2023-01-01|  cereal|perimercados escazu|1502.83|\n",
      "+----------+--------+-------------------+-------+\n",
      "only showing top 20 rows\n",
      "\n"
     ]
    }
   ],
   "source": [
    "# Step 4: Read data from SQL Server table into a DataFrame\n",
    "df = spark.read.jdbc(url=jdbc_url, table=\"factura\", properties=connection_properties)\n",
    "df.show()"
   ]
  },
  {
   "cell_type": "code",
   "execution_count": 47,
   "id": "f99b002a",
   "metadata": {},
   "outputs": [],
   "source": [
    "# Step 5: Optional - Write DataFrame back to SQL Server\n",
    "df.write.jdbc(url=jdbc_url, table=\"nueva_factura\", mode=\"overwrite\", properties=connection_properties)"
   ]
  },
  {
   "cell_type": "code",
   "execution_count": null,
   "id": "99eaa502-01ba-436e-a3e4-745e4d100c35",
   "metadata": {},
   "outputs": [],
   "source": []
  }
 ],
 "metadata": {
  "kernelspec": {
   "display_name": "Python 3 (ipykernel)",
   "language": "python",
   "name": "python3"
  },
  "language_info": {
   "codemirror_mode": {
    "name": "ipython",
    "version": 3
   },
   "file_extension": ".py",
   "mimetype": "text/x-python",
   "name": "python",
   "nbconvert_exporter": "python",
   "pygments_lexer": "ipython3",
   "version": "3.11.6"
  }
 },
 "nbformat": 4,
 "nbformat_minor": 5
}
