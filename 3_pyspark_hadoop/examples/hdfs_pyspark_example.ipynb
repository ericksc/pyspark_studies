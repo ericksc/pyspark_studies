{
 "cells": [
  {
   "cell_type": "markdown",
   "id": "fbf48adc",
   "metadata": {},
   "source": [
    "# PySpark HDFS Example\n",
    "This notebook demonstrates reading from and writing to HDFS using PySpark."
   ]
  },
  {
   "cell_type": "code",
   "execution_count": 1,
   "id": "f1fbe657",
   "metadata": {},
   "outputs": [],
   "source": [
    "\n",
    "from pyspark.sql import SparkSession\n",
    "\n",
    "# Create Spark session\n",
    "spark = SparkSession.builder \\\n",
    "    .appName(\"HDFSReadWriteExample\") \\\n",
    "    .getOrCreate()\n"
   ]
  },
  {
   "cell_type": "markdown",
   "id": "b606b6df",
   "metadata": {},
   "source": [
    "## Generate Sample DataFrame"
   ]
  },
  {
   "cell_type": "code",
   "execution_count": 2,
   "id": "8921ffac",
   "metadata": {},
   "outputs": [
    {
     "name": "stdout",
     "output_type": "stream",
     "text": [
      "+-----+---+\n",
      "| name|age|\n",
      "+-----+---+\n",
      "|Alice| 34|\n",
      "|  Bob| 45|\n",
      "|Cathy| 29|\n",
      "+-----+---+\n",
      "\n"
     ]
    }
   ],
   "source": [
    "\n",
    "# Sample data\n",
    "data = [(\"Alice\", 34), (\"Bob\", 45), (\"Cathy\", 29)]\n",
    "df = spark.createDataFrame(data, [\"name\", \"age\"])\n",
    "df.show()\n"
   ]
  },
  {
   "cell_type": "markdown",
   "id": "99c7c98a",
   "metadata": {},
   "source": [
    "## Write DataFrame to HDFS"
   ]
  },
  {
   "cell_type": "code",
   "execution_count": 5,
   "id": "ebdf6247",
   "metadata": {},
   "outputs": [
    {
     "name": "stdout",
     "output_type": "stream",
     "text": [
      "Data written to HDFS at: hdfs://namenode:8020/user/jovyan/data/people\n"
     ]
    }
   ],
   "source": [
    "\n",
    "# Write to HDFS in CSV format\n",
    "hdfs_path = \"hdfs://namenode:8020/user/jovyan/data/people\"\n",
    "df.write.mode(\"overwrite\").csv(hdfs_path)\n",
    "print(\"Data written to HDFS at:\", hdfs_path)\n"
   ]
  },
  {
   "cell_type": "markdown",
   "id": "5939175d",
   "metadata": {},
   "source": [
    "## Read DataFrame from HDFS"
   ]
  },
  {
   "cell_type": "code",
   "execution_count": 6,
   "id": "37de9aa4",
   "metadata": {},
   "outputs": [
    {
     "name": "stdout",
     "output_type": "stream",
     "text": [
      "+-----+---+\n",
      "|  _c0|_c1|\n",
      "+-----+---+\n",
      "|Alice| 34|\n",
      "|Cathy| 29|\n",
      "|  Bob| 45|\n",
      "+-----+---+\n",
      "\n"
     ]
    }
   ],
   "source": [
    "\n",
    "# Read back from HDFS\n",
    "df_read = spark.read.csv(hdfs_path, inferSchema=True, header=False)\n",
    "df_read.show()\n"
   ]
  },
  {
   "cell_type": "markdown",
   "id": "7f1440f7",
   "metadata": {},
   "source": [
    "## Done"
   ]
  }
 ],
 "metadata": {
  "kernelspec": {
   "display_name": "Python 3 (ipykernel)",
   "language": "python",
   "name": "python3"
  },
  "language_info": {
   "codemirror_mode": {
    "name": "ipython",
    "version": 3
   },
   "file_extension": ".py",
   "mimetype": "text/x-python",
   "name": "python",
   "nbconvert_exporter": "python",
   "pygments_lexer": "ipython3",
   "version": "3.11.6"
  }
 },
 "nbformat": 4,
 "nbformat_minor": 5
}
